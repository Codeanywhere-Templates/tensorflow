{
  "cells": [
    {
      "cell_type": "markdown",
      "id": "d7dd0fe8",
      "metadata": {},
      "source": [
        "# Codeanywhere TensorFlow Template\n",
        "\n",
        "Welcome to TensorFlow on Codeanywhere! This template is your springboard for creating amazing image classification projects. We'll use the classic MNIST digits dataset to get you started.\n",
        "\n",
        "In this interactive notebook, you'll learn how to:\n",
        "\n",
        "*   **Load a Dataset:** Grab MNIST and prepare it for our model.\n",
        "*   **Build a Neural Network:** Create a simple but effective network to recognize handwritten digits.\n",
        "*   **Train Your Model:** Teach your network to identify different digits with a training loop.\n",
        "*   **Test It Out:** See your model in action by testing it on new images. How well does it perform?\n",
        "\n",
        "Ready to become an AI engineer? Let's dive in!\n",
        "\n",
        "The code is based on the [TensorFlow basic classification tutorial](https://www.tensorflow.org/tutorials/keras/classification). You can find more help on the links below:\n",
        "\n",
        "[TensorFlow Basics](https://www.tensorflow.org/tutorials) ||\n",
        "[Keras Guide](https://www.tensorflow.org/guide/keras) ||\n",
        "[Tensors](https://www.tensorflow.org/guide/tensor) ||\n",
        "[Datasets & Input Pipeline](https://www.tensorflow.org/guide/data) ||\n",
        "[Data Preprocessing](https://www.tensorflow.org/guide/keras/preprocessing_layers) ||\n",
        "**Build Model** ||\n",
        "[Automatic Differentiation](https://www.tensorflow.org/guide/autodiff) ||\n",
        "[Optimization](https://www.tensorflow.org/api_docs/python/tf/keras/optimizers) ||\n",
        "[Save & Load Model](https://www.tensorflow.org/guide/keras/save_and_serialize)\n",
        "\n",
        "# Building the Neural Network\n",
        "\n",
        "Neural networks are made up of layers that perform operations on data. The [tf.keras](https://www.tensorflow.org/api_docs/python/tf/keras) API provides all the building blocks you need to create your own neural networks. Every layer in TensorFlow subclasses [tf.keras.layers.Layer](https://www.tensorflow.org/api_docs/python/tf/keras/layers/Layer). A neural network itself is a model consisting of other layers. This nested structure makes it easy to build and manage complex architectures.\n",
        "\n",
        "In the following sections, we'll build a neural network to classify images in the MNIST dataset."
      ]
    },
    {
      "cell_type": "code",
      "execution_count": 2,
      "id": "5c7ea956",
      "metadata": {},
      "outputs": [
        {
          "name": "stderr",
          "output_type": "stream",
          "text": [
            "2025-02-27 11:58:42.781479: I tensorflow/core/util/port.cc:153] oneDNN custom operations are on. You may see slightly different numerical results due to floating-point round-off errors from different computation orders. To turn them off, set the environment variable `TF_ENABLE_ONEDNN_OPTS=0`.\n",
            "2025-02-27 11:58:42.782296: I external/local_xla/xla/tsl/cuda/cudart_stub.cc:32] Could not find cuda drivers on your machine, GPU will not be used.\n",
            "2025-02-27 11:58:42.785616: I external/local_xla/xla/tsl/cuda/cudart_stub.cc:32] Could not find cuda drivers on your machine, GPU will not be used.\n",
            "2025-02-27 11:58:42.793508: E external/local_xla/xla/stream_executor/cuda/cuda_fft.cc:477] Unable to register cuFFT factory: Attempting to register factory for plugin cuFFT when one has already been registered\n",
            "WARNING: All log messages before absl::InitializeLog() is called are written to STDERR\n",
            "E0000 00:00:1740657522.807606    1524 cuda_dnn.cc:8310] Unable to register cuDNN factory: Attempting to register factory for plugin cuDNN when one has already been registered\n",
            "E0000 00:00:1740657522.811335    1524 cuda_blas.cc:1418] Unable to register cuBLAS factory: Attempting to register factory for plugin cuBLAS when one has already been registered\n",
            "2025-02-27 11:58:42.847313: I tensorflow/core/platform/cpu_feature_guard.cc:210] This TensorFlow binary is optimized to use available CPU instructions in performance-critical operations.\n",
            "To enable the following instructions: AVX2 AVX512F AVX512_VNNI FMA, in other operations, rebuild TensorFlow with the appropriate compiler flags.\n"
          ]
        }
      ],
      "source": [
        "import os\n",
        "import tensorflow as tf\n",
        "from tensorflow import keras\n",
        "from tensorflow.keras import layers, models\n",
        "import numpy as np\n",
        "import matplotlib.pyplot as plt\n",
        "import random"
      ]
    },
    {
      "cell_type": "markdown",
      "id": "53f81fef",
      "metadata": {},
      "source": [
        "## Checking TensorFlow Version and GPU Availability\n",
        "Let's check if we have a GPU available for training. TensorFlow will automatically use the GPU if it's available. Codeanywhere may not have GPU support, but we're always looking to improve. Keep an eye out for future updates!\n"
      ]
    },
    {
      "cell_type": "code",
      "execution_count": 3,
      "id": "26e90c82",
      "metadata": {},
      "outputs": [
        {
          "name": "stdout",
          "output_type": "stream",
          "text": [
            "TensorFlow version: 2.18.0\n",
            "GPU Available: False\n",
            "Using CPU for training\n"
          ]
        },
        {
          "name": "stderr",
          "output_type": "stream",
          "text": [
            "2025-02-27 11:58:48.594081: E external/local_xla/xla/stream_executor/cuda/cuda_driver.cc:152] failed call to cuInit: INTERNAL: CUDA error: Failed call to cuInit: UNKNOWN ERROR (303)\n"
          ]
        }
      ],
      "source": [
        "print(f\"TensorFlow version: {tf.__version__}\")\n",
        "print(f\"GPU Available: {len(tf.config.list_physical_devices('GPU')) > 0}\")\n",
        "if len(tf.config.list_physical_devices('GPU')) > 0:\n",
        "    print(\"GPU devices:\")\n",
        "    print(tf.config.list_physical_devices('GPU'))\n",
        "else:\n",
        "    print(\"Using CPU for training\")"
      ]
    },
    {
      "cell_type": "markdown",
      "id": "bfcdf3ea",
      "metadata": {},
      "source": [
        "## Defining Our Neural Network\n",
        "We'll define our neural network using the Keras Sequential API, which allows us to stack layers one after another. This is ideal for straightforward architectures like the one we need for MNIST."
      ]
    },
    {
      "cell_type": "code",
      "execution_count": 5,
      "id": "517f98d5",
      "metadata": {},
      "outputs": [],
      "source": [
        "def create_model():\n",
        "    model = keras.Sequential([\n",
        "        keras.layers.Flatten(input_shape=(28, 28)),  # Convert 28x28 images to 784 pixel values\n",
        "        keras.layers.Dense(512, activation='relu'),  # First dense layer with 512 neurons\n",
        "        keras.layers.Dense(512, activation='relu'),  # Second dense layer with 512 neurons\n",
        "        keras.layers.Dense(10)  # Output layer with 10 neurons (one per digit)\n",
        "    ])\n",
        "    \n",
        "    # Compile the model\n",
        "    model.compile(optimizer='adam',\n",
        "                  loss=tf.keras.losses.SparseCategoricalCrossentropy(from_logits=True),\n",
        "                  metrics=['accuracy'])\n",
        "    \n",
        "    return model"
      ]
    },
    {
      "cell_type": "markdown",
      "id": "98c7b9fe",
      "metadata": {},
      "source": [
        "Let's create an instance of our model and print its structure."
      ]
    },
    {
      "cell_type": "code",
      "execution_count": 6,
      "id": "994e05df",
      "metadata": {},
      "outputs": [
        {
          "name": "stderr",
          "output_type": "stream",
          "text": [
            "/home/jovyan/.local/lib/python3.12/site-packages/keras/src/layers/reshaping/flatten.py:37: UserWarning: Do not pass an `input_shape`/`input_dim` argument to a layer. When using Sequential models, prefer using an `Input(shape)` object as the first layer in the model instead.\n",
            "  super().__init__(**kwargs)\n"
          ]
        },
        {
          "data": {
            "text/html": [
              "<pre style=\"white-space:pre;overflow-x:auto;line-height:normal;font-family:Menlo,'DejaVu Sans Mono',consolas,'Courier New',monospace\"><span style=\"font-weight: bold\">Model: \"sequential\"</span>\n",
              "</pre>\n"
            ],
            "text/plain": [
              "\u001b[1mModel: \"sequential\"\u001b[0m\n"
            ]
          },
          "metadata": {},
          "output_type": "display_data"
        },
        {
          "data": {
            "text/html": [
              "<pre style=\"white-space:pre;overflow-x:auto;line-height:normal;font-family:Menlo,'DejaVu Sans Mono',consolas,'Courier New',monospace\">┏━━━━━━━━━━━━━━━━━━━━━━━━━━━━━━━━━┳━━━━━━━━━━━━━━━━━━━━━━━━┳━━━━━━━━━━━━━━━┓\n",
              "┃<span style=\"font-weight: bold\"> Layer (type)                    </span>┃<span style=\"font-weight: bold\"> Output Shape           </span>┃<span style=\"font-weight: bold\">       Param # </span>┃\n",
              "┡━━━━━━━━━━━━━━━━━━━━━━━━━━━━━━━━━╇━━━━━━━━━━━━━━━━━━━━━━━━╇━━━━━━━━━━━━━━━┩\n",
              "│ flatten (<span style=\"color: #0087ff; text-decoration-color: #0087ff\">Flatten</span>)               │ (<span style=\"color: #00d7ff; text-decoration-color: #00d7ff\">None</span>, <span style=\"color: #00af00; text-decoration-color: #00af00\">784</span>)            │             <span style=\"color: #00af00; text-decoration-color: #00af00\">0</span> │\n",
              "├─────────────────────────────────┼────────────────────────┼───────────────┤\n",
              "│ dense (<span style=\"color: #0087ff; text-decoration-color: #0087ff\">Dense</span>)                   │ (<span style=\"color: #00d7ff; text-decoration-color: #00d7ff\">None</span>, <span style=\"color: #00af00; text-decoration-color: #00af00\">512</span>)            │       <span style=\"color: #00af00; text-decoration-color: #00af00\">401,920</span> │\n",
              "├─────────────────────────────────┼────────────────────────┼───────────────┤\n",
              "│ dense_1 (<span style=\"color: #0087ff; text-decoration-color: #0087ff\">Dense</span>)                 │ (<span style=\"color: #00d7ff; text-decoration-color: #00d7ff\">None</span>, <span style=\"color: #00af00; text-decoration-color: #00af00\">512</span>)            │       <span style=\"color: #00af00; text-decoration-color: #00af00\">262,656</span> │\n",
              "├─────────────────────────────────┼────────────────────────┼───────────────┤\n",
              "│ dense_2 (<span style=\"color: #0087ff; text-decoration-color: #0087ff\">Dense</span>)                 │ (<span style=\"color: #00d7ff; text-decoration-color: #00d7ff\">None</span>, <span style=\"color: #00af00; text-decoration-color: #00af00\">10</span>)             │         <span style=\"color: #00af00; text-decoration-color: #00af00\">5,130</span> │\n",
              "└─────────────────────────────────┴────────────────────────┴───────────────┘\n",
              "</pre>\n"
            ],
            "text/plain": [
              "┏━━━━━━━━━━━━━━━━━━━━━━━━━━━━━━━━━┳━━━━━━━━━━━━━━━━━━━━━━━━┳━━━━━━━━━━━━━━━┓\n",
              "┃\u001b[1m \u001b[0m\u001b[1mLayer (type)                   \u001b[0m\u001b[1m \u001b[0m┃\u001b[1m \u001b[0m\u001b[1mOutput Shape          \u001b[0m\u001b[1m \u001b[0m┃\u001b[1m \u001b[0m\u001b[1m      Param #\u001b[0m\u001b[1m \u001b[0m┃\n",
              "┡━━━━━━━━━━━━━━━━━━━━━━━━━━━━━━━━━╇━━━━━━━━━━━━━━━━━━━━━━━━╇━━━━━━━━━━━━━━━┩\n",
              "│ flatten (\u001b[38;5;33mFlatten\u001b[0m)               │ (\u001b[38;5;45mNone\u001b[0m, \u001b[38;5;34m784\u001b[0m)            │             \u001b[38;5;34m0\u001b[0m │\n",
              "├─────────────────────────────────┼────────────────────────┼───────────────┤\n",
              "│ dense (\u001b[38;5;33mDense\u001b[0m)                   │ (\u001b[38;5;45mNone\u001b[0m, \u001b[38;5;34m512\u001b[0m)            │       \u001b[38;5;34m401,920\u001b[0m │\n",
              "├─────────────────────────────────┼────────────────────────┼───────────────┤\n",
              "│ dense_1 (\u001b[38;5;33mDense\u001b[0m)                 │ (\u001b[38;5;45mNone\u001b[0m, \u001b[38;5;34m512\u001b[0m)            │       \u001b[38;5;34m262,656\u001b[0m │\n",
              "├─────────────────────────────────┼────────────────────────┼───────────────┤\n",
              "│ dense_2 (\u001b[38;5;33mDense\u001b[0m)                 │ (\u001b[38;5;45mNone\u001b[0m, \u001b[38;5;34m10\u001b[0m)             │         \u001b[38;5;34m5,130\u001b[0m │\n",
              "└─────────────────────────────────┴────────────────────────┴───────────────┘\n"
            ]
          },
          "metadata": {},
          "output_type": "display_data"
        },
        {
          "data": {
            "text/html": [
              "<pre style=\"white-space:pre;overflow-x:auto;line-height:normal;font-family:Menlo,'DejaVu Sans Mono',consolas,'Courier New',monospace\"><span style=\"font-weight: bold\"> Total params: </span><span style=\"color: #00af00; text-decoration-color: #00af00\">669,706</span> (2.55 MB)\n",
              "</pre>\n"
            ],
            "text/plain": [
              "\u001b[1m Total params: \u001b[0m\u001b[38;5;34m669,706\u001b[0m (2.55 MB)\n"
            ]
          },
          "metadata": {},
          "output_type": "display_data"
        },
        {
          "data": {
            "text/html": [
              "<pre style=\"white-space:pre;overflow-x:auto;line-height:normal;font-family:Menlo,'DejaVu Sans Mono',consolas,'Courier New',monospace\"><span style=\"font-weight: bold\"> Trainable params: </span><span style=\"color: #00af00; text-decoration-color: #00af00\">669,706</span> (2.55 MB)\n",
              "</pre>\n"
            ],
            "text/plain": [
              "\u001b[1m Trainable params: \u001b[0m\u001b[38;5;34m669,706\u001b[0m (2.55 MB)\n"
            ]
          },
          "metadata": {},
          "output_type": "display_data"
        },
        {
          "data": {
            "text/html": [
              "<pre style=\"white-space:pre;overflow-x:auto;line-height:normal;font-family:Menlo,'DejaVu Sans Mono',consolas,'Courier New',monospace\"><span style=\"font-weight: bold\"> Non-trainable params: </span><span style=\"color: #00af00; text-decoration-color: #00af00\">0</span> (0.00 B)\n",
              "</pre>\n"
            ],
            "text/plain": [
              "\u001b[1m Non-trainable params: \u001b[0m\u001b[38;5;34m0\u001b[0m (0.00 B)\n"
            ]
          },
          "metadata": {},
          "output_type": "display_data"
        }
      ],
      "source": [
        "model = create_model()\n",
        "model.summary()"
      ]
    },
    {
      "cell_type": "markdown",
      "id": "50d23871",
      "metadata": {},
      "source": [
        "To use the model, we pass it input data. This executes a forward pass through the network, producing model predictions. Let's see what happens when we feed a random input:"
      ]
    },
    {
      "cell_type": "code",
      "execution_count": 7,
      "id": "008111eb",
      "metadata": {},
      "outputs": [
        {
          "name": "stdout",
          "output_type": "stream",
          "text": [
            "Predicted class: [1]\n"
          ]
        }
      ],
      "source": [
        "X = tf.random.normal([1, 28, 28])\n",
        "logits = model(X)\n",
        "pred_probab = tf.nn.softmax(logits)\n",
        "y_pred = tf.argmax(pred_probab, axis=1)\n",
        "print(f\"Predicted class: {y_pred.numpy()}\")"
      ]
    },
    {
      "cell_type": "markdown",
      "id": "39a1a661",
      "metadata": {},
      "source": [
        "## Let's dive deeper..."
      ]
    },
    {
      "cell_type": "markdown",
      "id": "a013ffe0",
      "metadata": {},
      "source": [
        "## Inside the Model Layers\n",
        "\n",
        "Let's break down the layers in the MNIST model. To illustrate, we'll take a minibatch of 3 images of size 28x28 and see what happens as we pass it through the network."
      ]
    },
    {
      "cell_type": "code",
      "execution_count": 8,
      "id": "6a93e021",
      "metadata": {},
      "outputs": [
        {
          "name": "stdout",
          "output_type": "stream",
          "text": [
            "Input shape: (3, 28, 28)\n"
          ]
        }
      ],
      "source": [
        "input_image = tf.random.normal([3, 28, 28])\n",
        "print(f\"Input shape: {input_image.shape}\")"
      ]
    },
    {
      "cell_type": "markdown",
      "id": "e725655e",
      "metadata": {},
      "source": [
        "### Flatten Layer\n",
        "We initialize the [Flatten](https://www.tensorflow.org/api_docs/python/tf/keras/layers/Flatten) layer to convert each 2D 28x28 image into a contiguous array of 784 pixel values. The batch dimension (at dim=0) is maintained."
      ]
    },
    {
      "cell_type": "code",
      "execution_count": 9,
      "id": "6814e018",
      "metadata": {},
      "outputs": [
        {
          "name": "stdout",
          "output_type": "stream",
          "text": [
            "After flatten: (3, 784)\n"
          ]
        }
      ],
      "source": [
        "flatten = keras.layers.Flatten()\n",
        "flat_image = flatten(input_image)\n",
        "print(f\"After flatten: {flat_image.shape}\")"
      ]
    },
    {
      "cell_type": "markdown",
      "id": "4a1a6326",
      "metadata": {},
      "source": [
        "### Dense Layer\n",
        "The [Dense layer](https://www.tensorflow.org/api_docs/python/tf/keras/layers/Dense) is a fully connected neural network layer that applies a linear transformation on the input using its stored weights and biases, then applies an activation function."
      ]
    },
    {
      "cell_type": "code",
      "execution_count": 10,
      "id": "6e493f27",
      "metadata": {},
      "outputs": [
        {
          "name": "stdout",
          "output_type": "stream",
          "text": [
            "After dense layer: (3, 20)\n"
          ]
        }
      ],
      "source": [
        "layer1 = keras.layers.Dense(20, activation=None)  # No activation for now\n",
        "hidden1 = layer1(flat_image)\n",
        "print(f\"After dense layer: {hidden1.shape}\")"
      ]
    },
    {
      "cell_type": "markdown",
      "id": "12be25f4",
      "metadata": {},
      "source": [
        "### ReLU Activation\n",
        "Non-linear activations create complex mappings between the model's inputs and outputs. They're applied after linear transformations to introduce *nonlinearity*, helping neural networks learn a wide variety of phenomena.\n",
        "\n",
        "In this model, we use [ReLU](https://www.tensorflow.org/api_docs/python/tf/keras/activations/relu) between our dense layers, but there are other activations to introduce non-linearity in your model."
      ]
    },
    {
      "cell_type": "code",
      "execution_count": 11,
      "id": "e6e94d29",
      "metadata": {},
      "outputs": [
        {
          "name": "stdout",
          "output_type": "stream",
          "text": [
            "Before ReLU: [[-0.09879903 -1.814381   -1.4603981 ]\n",
            " [-0.649222    0.70476043  2.4709082 ]]\n",
            "\n",
            "After ReLU: [[0.         0.         0.        ]\n",
            " [0.         0.70476043 2.4709082 ]]\n"
          ]
        }
      ],
      "source": [
        "print(f\"Before ReLU: {hidden1.numpy()[:2, :3]}\\n\")\n",
        "relu = keras.activations.relu(hidden1)\n",
        "print(f\"After ReLU: {relu.numpy()[:2, :3]}\")"
      ]
    },
    {
      "cell_type": "markdown",
      "id": "555ab1ea",
      "metadata": {},
      "source": [
        "### Sequential Model\n",
        "[Sequential](https://www.tensorflow.org/api_docs/python/tf/keras/Sequential) is an ordered container of layers. The data is passed through all the layers in the same order as defined. You can use sequential models to quickly assemble a network like `seq_model`."
      ]
    },
    {
      "cell_type": "code",
      "execution_count": 12,
      "id": "ff0829a1",
      "metadata": {},
      "outputs": [],
      "source": [
        "seq_model = keras.Sequential([\n",
        "    keras.layers.Flatten(input_shape=(28, 28)),\n",
        "    keras.layers.Dense(20),\n",
        "    keras.layers.ReLU(),\n",
        "    keras.layers.Dense(10)\n",
        "])\n",
        "input_image = tf.random.normal([3, 28, 28])\n",
        "logits = seq_model(input_image)"
      ]
    },
    {
      "cell_type": "markdown",
      "id": "787b533a",
      "metadata": {},
      "source": [
        "### Softmax Activation\n",
        "The last layer of our neural network returns `logits` - raw values in [-\\infty, \\infty] - which we pass to the [Softmax](https://www.tensorflow.org/api_docs/python/tf/keras/activations/softmax) activation function. The logits are scaled to values [0, 1], representing the model's predicted probabilities for each class. The `axis` parameter indicates the dimension along which the values must sum to 1."
      ]
    },
    {
      "cell_type": "code",
      "execution_count": 13,
      "id": "48ea2ef1",
      "metadata": {},
      "outputs": [],
      "source": [
        "softmax = tf.nn.softmax(logits, axis=1)\n",
        "pred_probab = softmax"
      ]
    },
    {
      "cell_type": "markdown",
      "id": "f979dfe5",
      "metadata": {},
      "source": [
        "## Model Parameters\n",
        "Many layers inside a neural network are *parameterized*, meaning they have associated weights and biases that are optimized during training. In TensorFlow, all model parameters are accessible using your model's `trainable_variables` property.\n",
        "\n",
        "In this example, we iterate over each parameter and print its shape and a preview of its values."
      ]
    },
    {
      "cell_type": "code",
      "execution_count": 14,
      "id": "ea06f082",
      "metadata": {},
      "outputs": [
        {
          "name": "stdout",
          "output_type": "stream",
          "text": [
            "Model structure: <Sequential name=sequential, built=True>\n",
            "\n",
            "Layer 0: Flatten\n",
            "  No trainable parameters\n",
            "\n",
            "Layer 1: Dense\n",
            "  Weight/bias 0: Shape = (784, 512) | Values = [ 0.04659762 -0.03009432 -0.05198447] ...\n",
            "  Weight/bias 1: Shape = (512,) | Values = [0. 0. 0.] ...\n",
            "\n",
            "Layer 2: Dense\n",
            "  Weight/bias 0: Shape = (512, 512) | Values = [-0.02405534  0.05653851 -0.03336934] ...\n",
            "  Weight/bias 1: Shape = (512,) | Values = [0. 0. 0.] ...\n",
            "\n",
            "Layer 3: Dense\n",
            "  Weight/bias 0: Shape = (512, 10) | Values = [-0.05442356  0.08846322 -0.00129733] ...\n",
            "  Weight/bias 1: Shape = (10,) | Values = [0. 0. 0.] ...\n",
            "\n"
          ]
        }
      ],
      "source": [
        "print(f\"Model structure: {model}\\n\")\n",
        "\n",
        "for i, layer in enumerate(model.layers):\n",
        "    print(f\"Layer {i}: {layer.__class__.__name__}\")\n",
        "    if layer.trainable_weights:\n",
        "        for j, w in enumerate(layer.trainable_weights):\n",
        "            print(f\"  Weight/bias {j}: Shape = {w.shape} | Values = {w.numpy().flatten()[:3]} ...\")\n",
        "    else:\n",
        "        print(\"  No trainable parameters\")\n",
        "    print()"
      ]
    },
    {
      "cell_type": "markdown",
      "id": "1a67929d",
      "metadata": {},
      "source": [
        "## Training Time!\n",
        "Now let's download and prepare the dataset:"
      ]
    },
    {
      "cell_type": "code",
      "execution_count": 15,
      "id": "cdd1b982",
      "metadata": {},
      "outputs": [
        {
          "name": "stdout",
          "output_type": "stream",
          "text": [
            "Downloading data from https://storage.googleapis.com/tensorflow/tf-keras-datasets/mnist.npz\n",
            "\u001b[1m11490434/11490434\u001b[0m \u001b[32m━━━━━━━━━━━━━━━━━━━━\u001b[0m\u001b[37m\u001b[0m \u001b[1m1s\u001b[0m 0us/step\n"
          ]
        },
        {
          "data": {
            "image/png": "[encoded data removed]",
            "text/plain": [
              "<Figure size 1000x1000 with 9 Axes>"
            ]
          },
          "metadata": {},
          "output_type": "display_data"
        }
      ],
      "source": [
        "# Load the MNIST dataset\n",
        "mnist = keras.datasets.mnist\n",
        "(train_images, train_labels), (test_images, test_labels) = mnist.load_data()\n",
        "\n",
        "# Normalize the images to [0, 1] range\n",
        "train_images = train_images / 255.0\n",
        "test_images = test_images / 255.0\n",
        "\n",
        "# Let's see a sample of the training data\n",
        "class_names = ['0', '1', '2', '3', '4', '5', '6', '7', '8', '9']\n",
        "\n",
        "plt.figure(figsize=(10, 10))\n",
        "for i in range(9):\n",
        "    plt.subplot(3, 3, i + 1)\n",
        "    plt.xticks([])\n",
        "    plt.yticks([])\n",
        "    plt.grid(False)\n",
        "    index = random.randint(0, len(train_images) - 1)\n",
        "    plt.imshow(train_images[index], cmap=plt.cm.binary)\n",
        "    plt.xlabel(class_names[train_labels[index]])\n",
        "plt.show()"
      ]
    },
    {
      "cell_type": "markdown",
      "id": "53cef55a",
      "metadata": {},
      "source": [
        "## Run the Training\n"
      ]
    },
    {
      "cell_type": "code",
      "execution_count": 16,
      "id": "493739a9",
      "metadata": {},
      "outputs": [
        {
          "name": "stdout",
          "output_type": "stream",
          "text": [
            "Epoch 1/5\n",
            "\u001b[1m844/844\u001b[0m \u001b[32m━━━━━━━━━━━━━━━━━━━━\u001b[0m\u001b[37m\u001b[0m \u001b[1m7s\u001b[0m 7ms/step - accuracy: 0.8910 - loss: 0.3608 - val_accuracy: 0.9732 - val_loss: 0.0946\n",
            "Epoch 2/5\n",
            "\u001b[1m844/844\u001b[0m \u001b[32m━━━━━━━━━━━━━━━━━━━━\u001b[0m\u001b[37m\u001b[0m \u001b[1m7s\u001b[0m 8ms/step - accuracy: 0.9755 - loss: 0.0785 - val_accuracy: 0.9743 - val_loss: 0.0826\n",
            "Epoch 3/5\n",
            "\u001b[1m844/844\u001b[0m \u001b[32m━━━━━━━━━━━━━━━━━━━━\u001b[0m\u001b[37m\u001b[0m \u001b[1m7s\u001b[0m 8ms/step - accuracy: 0.9840 - loss: 0.0499 - val_accuracy: 0.9773 - val_loss: 0.0762\n",
            "Epoch 4/5\n",
            "\u001b[1m844/844\u001b[0m \u001b[32m━━━━━━━━━━━━━━━━━━━━\u001b[0m\u001b[37m\u001b[0m \u001b[1m7s\u001b[0m 9ms/step - accuracy: 0.9885 - loss: 0.0340 - val_accuracy: 0.9803 - val_loss: 0.0798\n",
            "Epoch 5/5\n",
            "\u001b[1m844/844\u001b[0m \u001b[32m━━━━━━━━━━━━━━━━━━━━\u001b[0m\u001b[37m\u001b[0m \u001b[1m7s\u001b[0m 8ms/step - accuracy: 0.9912 - loss: 0.0278 - val_accuracy: 0.9782 - val_loss: 0.0849\n"
          ]
        }
      ],
      "source": [
        "# Create the model\n",
        "model = create_model()\n",
        "\n",
        "# Define some training parameters\n",
        "batch_size = 64  # Process 64 images at a time\n",
        "epochs = 5       # Iterate through the entire dataset 5 times\n",
        "\n",
        "# Train the model\n",
        "history = model.fit(\n",
        "    train_images, \n",
        "    train_labels, \n",
        "    batch_size=batch_size,\n",
        "    epochs=epochs,\n",
        "    validation_split=0.1  # Use 10% of the training data for validation\n",
        ")"
      ]
    },
    {
      "cell_type": "markdown",
      "id": "14d04b16",
      "metadata": {},
      "source": [
        "## Visualize Training Performance\n",
        "\n",
        "Let's visualize how our model's accuracy and loss evolved during training."
      ]
    },
    {
      "cell_type": "code",
      "execution_count": 17,
      "id": "6dedf9d7",
      "metadata": {},
      "outputs": [
        {
          "data": {
            "image/png": "[encoded data removed]",
            "text/plain": [
              "<Figure size 1200x400 with 2 Axes>"
            ]
          },
          "metadata": {},
          "output_type": "display_data"
        }
      ],
      "source": [
        "# Plot training & validation accuracy\n",
        "plt.figure(figsize=(12, 4))\n",
        "\n",
        "plt.subplot(1, 2, 1)\n",
        "plt.plot(history.history['accuracy'], label='Training Accuracy')\n",
        "plt.plot(history.history['val_accuracy'], label='Validation Accuracy')\n",
        "plt.ylim([0.5, 1])\n",
        "plt.xlabel('Epoch')\n",
        "plt.ylabel('Accuracy')\n",
        "plt.legend(loc='lower right')\n",
        "plt.title('Training and Validation Accuracy')\n",
        "\n",
        "# Plot training & validation loss\n",
        "plt.subplot(1, 2, 2)\n",
        "plt.plot(history.history['loss'], label='Training Loss')\n",
        "plt.plot(history.history['val_loss'], label='Validation Loss')\n",
        "plt.xlabel('Epoch')\n",
        "plt.ylabel('Loss')\n",
        "plt.legend(loc='upper right')\n",
        "plt.title('Training and Validation Loss')\n",
        "\n",
        "plt.show()"
      ]
    },
    {
      "cell_type": "markdown",
      "id": "94ca5472",
      "metadata": {},
      "source": [
        "## Evaluate the Model on Test Data\n"
      ]
    },
    {
      "cell_type": "code",
      "execution_count": 18,
      "id": "db68c8a1",
      "metadata": {},
      "outputs": [
        {
          "name": "stdout",
          "output_type": "stream",
          "text": [
            "313/313 - 1s - 2ms/step - accuracy: 0.9758 - loss: 0.0869\n",
            "\n",
            "Test accuracy: 0.9758\n"
          ]
        }
      ],
      "source": [
        "# Evaluate the model on test data\n",
        "test_loss, test_acc = model.evaluate(test_images, test_labels, verbose=2)\n",
        "print(f\"\\nTest accuracy: {test_acc:.4f}\")"
      ]
    },
    {
      "cell_type": "markdown",
      "id": "2028ff2a",
      "metadata": {},
      "source": [
        "## Seeing the Results (Inference)\n",
        "\n",
        "Now that we have a trained model, let's see how it performs on some images from the test dataset. We'll create a function to make predictions and display the results."
      ]
    },
    {
      "cell_type": "code",
      "execution_count": 19,
      "id": "ea695965",
      "metadata": {},
      "outputs": [
        {
          "data": {
            "image/png": "[encoded data removed]",
            "text/plain": [
              "<Figure size 600x300 with 2 Axes>"
            ]
          },
          "metadata": {},
          "output_type": "display_data"
        },
        {
          "data": {
            "image/png": "[encoded data removed]",
            "text/plain": [
              "<Figure size 600x300 with 2 Axes>"
            ]
          },
          "metadata": {},
          "output_type": "display_data"
        },
        {
          "data": {
            "image/png": "[encoded data removed]",
            "text/plain": [
              "<Figure size 600x300 with 2 Axes>"
            ]
          },
          "metadata": {},
          "output_type": "display_data"
        }
      ],
      "source": [
        "# Create a probability model by adding a softmax layer to our model\n",
        "probability_model = keras.Sequential([\n",
        "    model,\n",
        "    keras.layers.Softmax()\n",
        "])\n",
        "\n",
        "# Function to predict and display results\n",
        "def display_prediction(index):\n",
        "    img = test_images[index]\n",
        "    img_array = tf.expand_dims(img, 0)  # Create a batch with a single image\n",
        "    \n",
        "    # Get predictions\n",
        "    predictions = probability_model(img_array)\n",
        "    predicted_class = tf.argmax(predictions[0]).numpy()\n",
        "    actual_class = test_labels[index]\n",
        "    \n",
        "    # Display the image and prediction results\n",
        "    plt.figure(figsize=(6, 3))\n",
        "    plt.subplot(1, 2, 1)\n",
        "    plt.imshow(img, cmap=plt.cm.binary)\n",
        "    plt.grid(False)\n",
        "    plt.title(f\"Actual: {actual_class}\")\n",
        "    \n",
        "    # Plot the prediction confidence for all classes\n",
        "    plt.subplot(1, 2, 2)\n",
        "    plt.grid(False)\n",
        "    plt.xticks(range(10))\n",
        "    plot = plt.bar(range(10), predictions[0], color=\"#777777\")\n",
        "    plt.ylim([0, 1])\n",
        "    plt.title(f\"Predicted: {predicted_class}\")\n",
        "    \n",
        "    # Highlight the predicted digit\n",
        "    if predicted_class == actual_class:\n",
        "        plot[predicted_class].set_color('green')\n",
        "    else:\n",
        "        plot[predicted_class].set_color('red')\n",
        "        plot[actual_class].set_color('green')\n",
        "    \n",
        "    plt.tight_layout()\n",
        "    plt.show()\n",
        "\n",
        "# Display predictions for a few random test images\n",
        "for _ in range(3):\n",
        "    random_index = random.randint(0, len(test_images) - 1)\n",
        "    display_prediction(random_index)"
      ]
    },
    {
      "cell_type": "markdown",
      "id": "b3de1a39",
      "metadata": {},
      "source": [
        "## Saving the Model (Persistence)\n",
        "\n",
        "Let's save our trained model so we can use it later without retraining."
      ]
    },
    {
      "cell_type": "code",
      "execution_count": 22,
      "id": "07117246",
      "metadata": {},
      "outputs": [
        {
          "name": "stdout",
          "output_type": "stream",
          "text": [
            "Saved TensorFlow Model to 'mnist_model' directory\n",
            "Saved Model Weights to 'mnist_weights'\n"
          ]
        }
      ],
      "source": [
        "# Save the entire model (architecture + weights + optimizer state)\n",
        "model.save('mnist_model.keras')\n",
        "print(\"Saved TensorFlow Model to 'mnist_model' directory\")\n",
        "\n",
        "# Optionally, save just the weights\n",
        "model.save_weights('mnist_weights.weights.h5')\n",
        "print(\"Saved Model Weights to 'mnist_weights'\")"
      ]
    },
    {
      "cell_type": "markdown",
      "id": "0bd19c51",
      "metadata": {},
      "source": [
        "## Loading a Saved Model\n",
        "\n",
        "Here's how to load the model we just saved:"
      ]
    },
    {
      "cell_type": "code",
      "execution_count": 24,
      "id": "c9d51897",
      "metadata": {},
      "outputs": [
        {
          "name": "stdout",
          "output_type": "stream",
          "text": [
            "313/313 - 1s - 2ms/step - accuracy: 0.9758 - loss: 0.0869\n",
            "\n",
            "Test accuracy of loaded model: 0.9758\n"
          ]
        }
      ],
      "source": [
        "# Load the entire model\n",
        "loaded_model = keras.models.load_model('mnist_model.keras')\n",
        "\n",
        "# Verify that the model works\n",
        "test_loss, test_acc = loaded_model.evaluate(test_images, test_labels, verbose=2)\n",
        "print(f\"\\nTest accuracy of loaded model: {test_acc:.4f}\")"
      ]
    },
    {
      "cell_type": "markdown",
      "id": "10af5716",
      "metadata": {},
      "source": [
        "## Wrapping Up!\n",
        "\n",
        "Congratulations! You've built and trained a digit classification model using TensorFlow and Codeanywhere. This is just the beginning. Experiment with different network architectures, training parameters, and datasets to create even more amazing AI applications!\n",
        "\n",
        "Some ideas to try next:\n",
        "1. Add more layers or neurons to improve accuracy\n",
        "2. Try different optimizers like SGD or RMSprop\n",
        "3. Add dropout layers to prevent overfitting\n",
        "4. Try a convolutional neural network (CNN) architecture\n",
        "5. Apply data augmentation to improve generalization\n",
        "\n",
        "- [TensorFlow Keras API](https://www.tensorflow.org/api_docs/python/tf/keras)\n",
        "- [TensorFlow Tutorials](https://www.tensorflow.org/tutorials)"
      ]
    }
  ],
  "metadata": {
    "kernelspec": {
      "display_name": "base",
      "language": "python",
      "name": "python3"
    },
    "language_info": {
      "codemirror_mode": {
        "name": "ipython",
        "version": 3
      },
      "file_extension": ".py",
      "mimetype": "text/x-python",
      "name": "python",
      "nbconvert_exporter": "python",
      "pygments_lexer": "ipython3",
      "version": "3.12.9"
    }
  },
  "nbformat": 4,
  "nbformat_minor": 5
}
